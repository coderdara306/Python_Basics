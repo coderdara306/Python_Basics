{
 "cells": [
  {
   "cell_type": "code",
   "execution_count": 1,
   "metadata": {},
   "outputs": [
    {
     "name": "stdout",
     "output_type": "stream",
     "text": [
      "hello\n"
     ]
    }
   ],
   "source": [
    "print(\"hello\")"
   ]
  },
  {
   "cell_type": "code",
   "execution_count": 13,
   "metadata": {},
   "outputs": [
    {
     "name": "stdout",
     "output_type": "stream",
     "text": [
      "[1, 2, 3, 'four', 5, 6.23, True, False, 2]\n",
      "frozenset({2, 10, 4, 5})\n"
     ]
    }
   ],
   "source": [
    "#Numeric Data types\n",
    "var = 1 #Integer\n",
    "var_2 = 1.23  #Float\n",
    "var_3 = 1+2j #complex number\n",
    "\n",
    "#Boolean Data Types\n",
    "var_4 = True  #boolean\n",
    "var_5 = False #Boolean False\n",
    "\n",
    "#Sequence Data types\n",
    "var_6 = \"string\" #string\n",
    "var_7 = [1,2,3,\"four\",5,6.23,True,False,2] #list\n",
    "# var_7[2] = 8\n",
    "print(var_7)\n",
    "var_8 = (1,2,3,4,5)  # Tuple  - immutable\n",
    "#Dictionary\n",
    "\n",
    "var_9 = {1:\"one\",2:\"two\"}\n",
    "\n",
    "#Set\n",
    "var_10 = {2,4,5,10,2}  #Set - not dublicate\n",
    "result = frozenset(var_10)\n",
    "print(result)\n",
    "\n"
   ]
  },
  {
   "cell_type": "code",
   "execution_count": 20,
   "metadata": {},
   "outputs": [
    {
     "name": "stdout",
     "output_type": "stream",
     "text": [
      "Before: <class 'float'>\n",
      "After: <class 'str'>\n"
     ]
    }
   ],
   "source": [
    "number = 1.23\n",
    "\n",
    "print(\"Before:\",type(number))\n",
    "\n",
    "number = str(number)\n",
    "\n",
    "print(\"After:\",type(number))"
   ]
  },
  {
   "cell_type": "code",
   "execution_count": 24,
   "metadata": {},
   "outputs": [
    {
     "name": "stdout",
     "output_type": "stream",
     "text": [
      "False\n",
      "<class 'bool'>\n"
     ]
    }
   ],
   "source": [
    "text = \"\"\n",
    "\n",
    "result = bool(text)\n",
    "\n",
    "print(result)\n",
    "\n",
    "print(type(result))"
   ]
  },
  {
   "cell_type": "code",
   "execution_count": 31,
   "metadata": {},
   "outputs": [
    {
     "name": "stdout",
     "output_type": "stream",
     "text": [
      "1.0\n",
      "1.0\n"
     ]
    }
   ],
   "source": [
    "a = 4\n",
    "b = 4\n",
    "\n",
    "if bool(a) == True:\n",
    "    result = int(a)/int(b)\n",
    "else:\n",
    "    print(\"a is missing\") \n",
    "\n",
    "print(result)\n",
    "\n",
    "\n",
    "\n",
    "if a:\n",
    "    result = int(a)/int(b)\n",
    "else:\n",
    "    print(\"a is missing\") \n",
    "\n",
    "print(result)"
   ]
  },
  {
   "cell_type": "code",
   "execution_count": 37,
   "metadata": {},
   "outputs": [
    {
     "name": "stdout",
     "output_type": "stream",
     "text": [
      "Index: 0,value:1\n",
      "Index: 1,value:2\n",
      "Index: 2,value:3\n",
      "Index: 3,value:4\n",
      "Index: 4,value:5\n",
      "Index: 5,value:6\n",
      "Index: 6,value:7\n",
      "Index: 7,value:9\n",
      "Index: 8,value:dfds\n",
      "Index: 9,value:1.23\n"
     ]
    }
   ],
   "source": [
    "#Loops\n",
    "\n",
    "# text = \"\"\"Python is a very popular language when it comes to data analysis and statistics. Luckily, Python3 provide statistics module, which comes with very useful functions like mean(), median(), mode() etc.\n",
    "# mean() function can be used to calculate mean/average of a given list of numbers. It returns mean of the data set passed as parameters.\"\"\"\n",
    "\n",
    "list_value = [1,2,3,4,5,6,7,9,\"dfds\",1.23]\n",
    "\n",
    "\n",
    "# for char in text:\n",
    "#     print(char)\n",
    "#index start from 0 to n-1\n",
    "\n",
    "# \"f-string\"\n",
    "for index,i in enumerate(list_value):\n",
    "    print(f\"Index: {index},value:{i}\")\n"
   ]
  },
  {
   "cell_type": "code",
   "execution_count": 39,
   "metadata": {},
   "outputs": [
    {
     "name": "stdout",
     "output_type": "stream",
     "text": [
      "1\n",
      "3\n",
      "4\n",
      "6\n",
      "7\n"
     ]
    }
   ],
   "source": [
    "set_value = {1,2,3,4,5,6}\n",
    "\n",
    "\n",
    "tuple_value = (1,3,4,6,7)\n",
    "\n",
    "for i in tuple_value:\n",
    "    print(i)"
   ]
  },
  {
   "cell_type": "code",
   "execution_count": 3,
   "metadata": {},
   "outputs": [
    {
     "name": "stdout",
     "output_type": "stream",
     "text": [
      "{1: 'one', 2: 'two', 3: 'three', 4: 'four', 5: 'five'}\n"
     ]
    }
   ],
   "source": [
    "dict_value = {1:\"one\",2:\"two\",3:\"three\",4:\"four\"}\n",
    "\n",
    "dict_value[5] = \"five\" \n",
    "# result = dict_value[] \n",
    "print(dict_value)\n",
    "#Dictionary\n",
    "# for key,value in dict_value.items():\n",
    "#     print(key)\n",
    "#     print(value)"
   ]
  },
  {
   "cell_type": "code",
   "execution_count": 5,
   "metadata": {},
   "outputs": [
    {
     "name": "stdout",
     "output_type": "stream",
     "text": [
      "False\n"
     ]
    }
   ],
   "source": [
    "str1 = '34f2'\n",
    "print(str1.isdigit())"
   ]
  },
  {
   "cell_type": "code",
   "execution_count": 8,
   "metadata": {},
   "outputs": [
    {
     "name": "stdout",
     "output_type": "stream",
     "text": [
      "Python is a fun programming language\n"
     ]
    }
   ],
   "source": [
    "text = ['Python', 'is', 'a', 'fun', 'programming', 'language']\n",
    "\n",
    "# join elements of text with space\n",
    "print(' '.join(text))"
   ]
  },
  {
   "cell_type": "code",
   "execution_count": 11,
   "metadata": {},
   "outputs": [
    {
     "name": "stdout",
     "output_type": "stream",
     "text": [
      "Learn Python\n"
     ]
    }
   ],
   "source": [
    "message = '     Learn Python  '\n",
    "\n",
    "# remove leading and trailing whitespaces\n",
    "print(message.strip())"
   ]
  },
  {
   "cell_type": "code",
   "execution_count": 22,
   "metadata": {},
   "outputs": [
    {
     "name": "stdout",
     "output_type": "stream",
     "text": [
      "ball\n"
     ]
    }
   ],
   "source": [
    "text = ' bat ball    '\n",
    "\n",
    "# replace 'ba' with 'ro'\n",
    "replaced_text = text.replace('bat','').strip()\n",
    "\n",
    "print(replaced_text)"
   ]
  },
  {
   "cell_type": "code",
   "execution_count": 25,
   "metadata": {},
   "outputs": [
    {
     "name": "stdout",
     "output_type": "stream",
     "text": [
      "Count of 2: 3\n",
      "7\n"
     ]
    }
   ],
   "source": [
    "numbers = [2, 3, 5, 2, 11, 2, 7]\n",
    "\n",
    "# check the count of 2\n",
    "count = numbers.count(2)\n",
    "\n",
    "\n",
    "print('Count of 2:', count)\n",
    "\n",
    "print(len(numbers))"
   ]
  },
  {
   "cell_type": "code",
   "execution_count": 19,
   "metadata": {},
   "outputs": [
    {
     "name": "stdout",
     "output_type": "stream",
     "text": [
      "['Py', 'thon is fun']\n"
     ]
    }
   ],
   "source": [
    "text = 'Py-thon is fun'\n",
    "\n",
    "# split the text from space\n",
    "print(text.split('-'))\n",
    "\n",
    "\n",
    "# Output: ['Python', 'is', 'fun']"
   ]
  },
  {
   "cell_type": "code",
   "execution_count": 20,
   "metadata": {},
   "outputs": [
    {
     "name": "stdout",
     "output_type": "stream",
     "text": [
      "-0000290\n",
      "+0000290\n",
      "-0000000-random+text\n"
     ]
    }
   ],
   "source": [
    "number = \"-290\"\n",
    "print(number.zfill(8))\n",
    "\n",
    "number = \"+290\"\n",
    "print(number.zfill(8))\n",
    "\n",
    "text = \"--random+text\"\n",
    "print(text.zfill(20))"
   ]
  },
  {
   "cell_type": "code",
   "execution_count": 7,
   "metadata": {},
   "outputs": [
    {
     "name": "stdout",
     "output_type": "stream",
     "text": [
      " Python is a fun programming language\n"
     ]
    }
   ],
   "source": [
    "# text = ['Python', 'is', 'a', 'fun', 'programming', 'language']\n",
    "\n",
    "# result = \"\"\n",
    "# for i in text:\n",
    "#     result = result+\" \"+i\n",
    "\n",
    "\n",
    "# print(result)"
   ]
  },
  {
   "cell_type": "code",
   "execution_count": 27,
   "metadata": {},
   "outputs": [
    {
     "name": "stdout",
     "output_type": "stream",
     "text": [
      "[11, 7, 5, 3, 2]\n"
     ]
    }
   ],
   "source": [
    "numbers = [7, 3, 11, 2, 5]\n",
    "\n",
    "# reverse is set to True\n",
    "numbers.sort(reverse = True)\n",
    "\n",
    "\n",
    "print(numbers)"
   ]
  },
  {
   "cell_type": "code",
   "execution_count": 34,
   "metadata": {},
   "outputs": [
    {
     "name": "stdout",
     "output_type": "stream",
     "text": [
      "[7, 3, 11, 2, 5]\n",
      "[7, 3, 11, 2, 5]\n",
      "[]\n"
     ]
    }
   ],
   "source": [
    "numbers = [7, 3, 11, 2, 5]\n",
    "\n",
    "\n",
    "num = numbers.copy()\n",
    "\n",
    "print(num)\n",
    "\n",
    "num = [1,2,3,4,5,6]\n",
    "\n",
    "print(numbers)\n",
    "\n",
    "numbers.clear()\n",
    "\n",
    "print(numbers)"
   ]
  },
  {
   "cell_type": "code",
   "execution_count": 5,
   "metadata": {},
   "outputs": [
    {
     "name": "stdout",
     "output_type": "stream",
     "text": [
      "Original items: dict_items([('apple', 2), ('orange', 3), ('grapes', 4)])\n",
      "3\n",
      "{'apple': 2, 'orange': 3, 'grapes': 4, 'banana': 5}\n",
      "5\n"
     ]
    }
   ],
   "source": [
    "sales = { 'apple': 2, 'orange': 3, 'grapes': 4 }\n",
    "\n",
    "items = sales.items()\n",
    "\n",
    "print('Original items:', items)\n",
    "\n",
    "print(sales['orange'])\n",
    "\n",
    "\n",
    "sales['banana'] = 5\n",
    "\n",
    "print(sales)\n",
    "\n",
    "\n",
    "result = sales['banana']\n",
    "\n",
    "print(result)"
   ]
  }
 ],
 "metadata": {
  "kernelspec": {
   "display_name": "Python 3",
   "language": "python",
   "name": "python3"
  },
  "language_info": {
   "codemirror_mode": {
    "name": "ipython",
    "version": 3
   },
   "file_extension": ".py",
   "mimetype": "text/x-python",
   "name": "python",
   "nbconvert_exporter": "python",
   "pygments_lexer": "ipython3",
   "version": "3.11.5"
  }
 },
 "nbformat": 4,
 "nbformat_minor": 2
}
