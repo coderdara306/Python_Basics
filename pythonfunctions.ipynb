{
 "cells": [
  {
   "cell_type": "code",
   "execution_count": 10,
   "metadata": {},
   "outputs": [],
   "source": [
    "def addition(num1,num2):\n",
    "    result = num1 + num2\n",
    "    return result\n",
    "\n",
    "def subtraction(num1,num2):\n",
    "    result = num1 - num2\n",
    "    return result"
   ]
  },
  {
   "cell_type": "code",
   "execution_count": 11,
   "metadata": {},
   "outputs": [
    {
     "name": "stdout",
     "output_type": "stream",
     "text": [
      "Enter 1 for addition\n",
      "\n",
      "        Enter 2 for subtraction\n",
      "\n",
      "        Enter 3 for multiplication\n",
      "\n",
      "        Enter 4 for division\n",
      "output: -3\n"
     ]
    }
   ],
   "source": [
    "# Build a simple calculator\n",
    "\n",
    "\n",
    "num_1 = int(input(\"Enter 1st number: \"))\n",
    "num_2 = int(input(\"Enter 2nd number: \"))\n",
    "\n",
    "print('''Enter 1 for addition\\n\n",
    "        Enter 2 for subtraction\\n\n",
    "        Enter 3 for multiplication\n",
    "        Enter 4 for division''')\n",
    "\n",
    "calculation = int(input(\"Enter your response: \"))\n",
    "\n",
    "if calculation == 1:\n",
    "    result = addition(num_1,num_2)\n",
    "elif calculation == 2:\n",
    "    result = subtraction(num_1,num_2)\n",
    "\n",
    "\n",
    "print(\"output:\",result)\n"
   ]
  }
 ],
 "metadata": {
  "kernelspec": {
   "display_name": "Python 3",
   "language": "python",
   "name": "python3"
  },
  "language_info": {
   "codemirror_mode": {
    "name": "ipython",
    "version": 3
   },
   "file_extension": ".py",
   "mimetype": "text/x-python",
   "name": "python",
   "nbconvert_exporter": "python",
   "pygments_lexer": "ipython3",
   "version": "3.11.5"
  }
 },
 "nbformat": 4,
 "nbformat_minor": 2
}
